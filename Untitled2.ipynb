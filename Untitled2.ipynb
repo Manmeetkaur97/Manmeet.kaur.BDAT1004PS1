{
 "cells": [
  {
   "cell_type": "code",
   "execution_count": 15,
   "id": "6d13fdd7",
   "metadata": {},
   "outputs": [
    {
     "name": "stdout",
     "output_type": "stream",
     "text": [
      "Enter a word to translate to Pig Latin: Apple\n",
      "a is a vowel\n",
      "The word in Pig Latin is: appleway\n"
     ]
    }
   ],
   "source": [
    "ay = \"ay\"\n",
    "way = \"way\"\n",
    "consonant = (\"b\",\"c\",\"d\",\"f\",\"g\",\"h\",\"j\",\"k\",\"l\",\"m\",\"n\",\"p\",\"q\",\"r\",\"s\",\"t\",\"v\",\"w\",\"x\",\"y\",\"z\")\n",
    "vowel = (\"a\",\"e\",\"i\",\"o\",'u')\n",
    "user_word = input(\"Enter a word to translate to Pig Latin: \").lower()\n",
    "first_letter = user_word[0]\n",
    "first_letter = str(first_letter)\n",
    "\n",
    "if first_letter in consonant:\n",
    "   print(first_letter,\"is a constant\")\n",
    "   length_of_word = len(user_word)\n",
    "   remove_first_letter = user_word[1:length_of_word]\n",
    "   pig_latin=remove_first_letter+first_letter+ay\n",
    "   print(\"The word in Pig Latin is:\",pig_latin)\n",
    "elif first_letter in vowel:\n",
    "   print(first_letter,\"is a vowel\")\n",
    "   pig_latin=user_word+way\n",
    "   print(\"The word in Pig Latin is:\",pig_latin)\n",
    "else:\n",
    "   print(\"I dont know what\",first_letter,\"is\")\n",
    "\n",
    "\n"
   ]
  },
  {
   "cell_type": "code",
   "execution_count": null,
   "id": "bd579acf",
   "metadata": {},
   "outputs": [],
   "source": []
  },
  {
   "cell_type": "code",
   "execution_count": null,
   "id": "ddf7e5c6",
   "metadata": {},
   "outputs": [],
   "source": []
  },
  {
   "cell_type": "markdown",
   "id": "4100d60f",
   "metadata": {},
   "source": [
    "### Question 10"
   ]
  },
  {
   "cell_type": "code",
   "execution_count": 17,
   "id": "7a982d17",
   "metadata": {},
   "outputs": [
    {
     "name": "stdout",
     "output_type": "stream",
     "text": [
      "Enter a word: Hello\n",
      "{'H': 1, 'e': 1, 'l': 2, 'o': 1}\n"
     ]
    }
   ],
   "source": [
    "def frequencies(x):\n",
    "\n",
    "    all_freq = {}\n",
    "    for i in x:\n",
    "        if i in all_freq:\n",
    "            all_freq[i] +=1\n",
    "        else:\n",
    "            all_freq[i] =1\n",
    "    print(all_freq)\n",
    "word = input(\"Enter a word: \")\n",
    "frequencies(word)\n",
    "    "
   ]
  },
  {
   "cell_type": "code",
   "execution_count": 18,
   "id": "a596c540",
   "metadata": {},
   "outputs": [
    {
     "ename": "SyntaxError",
     "evalue": "invalid syntax (Temp/ipykernel_7804/3022394003.py, line 1)",
     "output_type": "error",
     "traceback": [
      "\u001b[1;36m  File \u001b[1;32m\"C:\\Users\\owner\\AppData\\Local\\Temp/ipykernel_7804/3022394003.py\"\u001b[1;36m, line \u001b[1;32m1\u001b[0m\n\u001b[1;33m    // C#Question1\u001b[0m\n\u001b[1;37m    ^\u001b[0m\n\u001b[1;31mSyntaxError\u001b[0m\u001b[1;31m:\u001b[0m invalid syntax\n"
     ]
    }
   ],
   "source": []
  },
  {
   "cell_type": "code",
   "execution_count": null,
   "id": "579dbf2c",
   "metadata": {},
   "outputs": [],
   "source": []
  },
  {
   "cell_type": "code",
   "execution_count": null,
   "id": "a94c99e6",
   "metadata": {},
   "outputs": [],
   "source": []
  }
 ],
 "metadata": {
  "kernelspec": {
   "display_name": "Python 3 (ipykernel)",
   "language": "python",
   "name": "python3"
  },
  "language_info": {
   "codemirror_mode": {
    "name": "ipython",
    "version": 3
   },
   "file_extension": ".py",
   "mimetype": "text/x-python",
   "name": "python",
   "nbconvert_exporter": "python",
   "pygments_lexer": "ipython3",
   "version": "3.9.7"
  }
 },
 "nbformat": 4,
 "nbformat_minor": 5
}
